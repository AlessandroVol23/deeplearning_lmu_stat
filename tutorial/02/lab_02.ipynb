{
 "cells": [
  {
   "cell_type": "markdown",
   "metadata": {},
   "source": [
    "# 2.1"
   ]
  },
  {
   "cell_type": "code",
   "execution_count": 1,
   "metadata": {},
   "outputs": [],
   "source": [
    "import numpy as np"
   ]
  },
  {
   "cell_type": "code",
   "execution_count": 2,
   "metadata": {},
   "outputs": [
    {
     "name": "stdout",
     "output_type": "stream",
     "text": [
      "(5, 2)\n",
      "(5,)\n"
     ]
    }
   ],
   "source": [
    "X = np.array([[0,0],[1,0],[0,-1],[-1,0],[0,1]])\n",
    "y = np.array([1,0,0,0,0])\n",
    "print(X.shape)\n",
    "print(y.shape)"
   ]
  },
  {
   "cell_type": "code",
   "execution_count": 43,
   "metadata": {},
   "outputs": [],
   "source": [
    "ws1 = np.array([[-20,20],[-20,20]])\n",
    "bias1 = np.array([0,0])\n",
    "ws2 = np.array([[-1, 1], [-1, 1]])\n",
    "bias2 = np.array([10,-10])"
   ]
  },
  {
   "cell_type": "code",
   "execution_count": 47,
   "metadata": {},
   "outputs": [
    {
     "data": {
      "text/plain": [
       "array([-1,  1])"
      ]
     },
     "execution_count": 47,
     "metadata": {},
     "output_type": "execute_result"
    }
   ],
   "source": [
    "np.array([-1, 1])"
   ]
  },
  {
   "cell_type": "code",
   "execution_count": 28,
   "metadata": {},
   "outputs": [],
   "source": [
    "def dense(X, ws, bs):\n",
    "    return (X.dot(ws) + bs)"
   ]
  },
  {
   "cell_type": "code",
   "execution_count": 29,
   "metadata": {},
   "outputs": [],
   "source": [
    "def relu(x):\n",
    "    return np.maximum(x, 0)"
   ]
  },
  {
   "cell_type": "code",
   "execution_count": 30,
   "metadata": {},
   "outputs": [],
   "source": [
    "def sigmoid(x):\n",
    "    return (1 / (1 + np.power(np.e, -x)))"
   ]
  },
  {
   "cell_type": "code",
   "execution_count": 31,
   "metadata": {},
   "outputs": [],
   "source": [
    "def predict(x):\n",
    "    z_in = dense(x, ws1, bias1)\n",
    "    #print(\"{}: \\n{}\".format(\"z_in\", z_in))\n",
    "    z_out = relu(z_in)\n",
    "    #print(\"{}: \\n{}\".format(\"z_out\", z_out))\n",
    "    f_in = dense(x, ws2, bias2)\n",
    "    #print(\"{}: \\n{}\".format(\"f_in\", f_in))\n",
    "    f_out = softmax(f_in)\n",
    "    #print(\"{}: \\n{}\".format(\"f_out\", f_out))\n",
    "    return f_out"
   ]
  },
  {
   "cell_type": "code",
   "execution_count": 32,
   "metadata": {},
   "outputs": [],
   "source": [
    "def softmax(x):\n",
    "    \"\"\"Compute softmax values for each sets of scores in x.\"\"\"\n",
    "    e_x = np.exp(x - np.max(x))\n",
    "    return e_x / e_x.sum()"
   ]
  },
  {
   "cell_type": "code",
   "execution_count": 55,
   "metadata": {},
   "outputs": [],
   "source": [
    "def cross_entropy(X,y):\n",
    "    \"\"\"\n",
    "    X is the output from fully connected layer (num_examples x num_classes)\n",
    "    y is labels (num_examples x 1)\n",
    "    \tNote that y is not one-hot encoded vector. \n",
    "    \tIt can be computed as y.argmax(axis=1) from one-hot encoded vectors of labels if required.\n",
    "    \"\"\"\n",
    "    m = y.shape[0]\n",
    "    p = softmax(X)\n",
    "    # We use multidimensional array indexing to extract \n",
    "    # softmax probability of the correct label for each sample.\n",
    "    # Refer to https://docs.scipy.org/doc/numpy/user/basics.indexing.html#indexing-multi-dimensional-arrays for understanding multidimensional array indexing.\n",
    "    log_likelihood = -np.log(p[range(m),y])\n",
    "    loss = np.sum(log_likelihood) / m\n",
    "    loss = loss / len(y)\n",
    "    return loss"
   ]
  },
  {
   "cell_type": "code",
   "execution_count": 56,
   "metadata": {},
   "outputs": [
    {
     "name": "stdout",
     "output_type": "stream",
     "text": [
      "Prediction for X[0]: [9.99999998e-01 2.06115362e-09], sum: 0.9999999999999999\n",
      "===================================================================================\n",
      "Prediction for X[1]: [9.99999985e-01 1.52299795e-08], sum: 1.0\n",
      "===================================================================================\n",
      "Prediction for X[2]: [1.00000000e+00 2.78946809e-10], sum: 0.9999999999999999\n",
      "===================================================================================\n",
      "Prediction for X[3]: [1.00000000e+00 2.78946809e-10], sum: 0.9999999999999999\n",
      "===================================================================================\n",
      "Prediction for X[4]: [9.99999985e-01 1.52299795e-08], sum: 1.0\n",
      "===================================================================================\n",
      "Loss is: 0.4483397798882556\n"
     ]
    }
   ],
   "source": [
    "for index, x in enumerate(X):\n",
    "    print(\"Prediction for X[{}]: {}, sum: {}\".format(index, predict(x), np.sum(predict(x))))\n",
    "    print(\"===================================================================================\")\n",
    "    \n",
    "y_preds = predict(X)\n",
    "print(\"Loss is: {}\".format(cross_entropy(predict(X), y)))"
   ]
  },
  {
   "cell_type": "code",
   "execution_count": 40,
   "metadata": {},
   "outputs": [
    {
     "data": {
      "text/plain": [
       "(2, 2)"
      ]
     },
     "execution_count": 40,
     "metadata": {},
     "output_type": "execute_result"
    }
   ],
   "source": [
    "ws1.shape"
   ]
  },
  {
   "cell_type": "markdown",
   "metadata": {},
   "source": [
    "# 2.2"
   ]
  },
  {
   "cell_type": "code",
   "execution_count": null,
   "metadata": {},
   "outputs": [],
   "source": []
  }
 ],
 "metadata": {
  "kernelspec": {
   "display_name": "Python 3",
   "language": "python",
   "name": "python3"
  },
  "language_info": {
   "codemirror_mode": {
    "name": "ipython",
    "version": 3
   },
   "file_extension": ".py",
   "mimetype": "text/x-python",
   "name": "python",
   "nbconvert_exporter": "python",
   "pygments_lexer": "ipython3",
   "version": "3.7.3"
  }
 },
 "nbformat": 4,
 "nbformat_minor": 2
}
