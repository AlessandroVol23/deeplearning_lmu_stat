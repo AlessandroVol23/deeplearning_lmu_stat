{
 "cells": [
  {
   "cell_type": "markdown",
   "metadata": {},
   "source": [
    "# 2.1"
   ]
  },
  {
   "cell_type": "code",
   "execution_count": 16,
   "metadata": {},
   "outputs": [],
   "source": [
    "import numpy as np"
   ]
  },
  {
   "cell_type": "code",
   "execution_count": 17,
   "metadata": {},
   "outputs": [
    {
     "name": "stdout",
     "output_type": "stream",
     "text": [
      "(5, 2)\n",
      "(5,)\n"
     ]
    }
   ],
   "source": [
    "X = np.array([[0,0],[1,0],[0,-1],[-1,0],[0,1]])\n",
    "y = np.array([1,0,0,0,0])\n",
    "print(X.shape)\n",
    "print(y.shape)"
   ]
  },
  {
   "cell_type": "code",
   "execution_count": 68,
   "metadata": {},
   "outputs": [],
   "source": [
    "ws1 = np.array([[-2,2],[2,-2]])\n",
    "bias1 = np.array([0,0])\n",
    "ws2 = np.array([[-4, 4], [-4, 4]])\n",
    "bias2 = np.array([4,4])"
   ]
  },
  {
   "cell_type": "code",
   "execution_count": 70,
   "metadata": {},
   "outputs": [],
   "source": [
    "def dense(X, ws, bs):\n",
    "    return (X.dot(ws) + bs)"
   ]
  },
  {
   "cell_type": "code",
   "execution_count": 19,
   "metadata": {},
   "outputs": [],
   "source": [
    "def relu(x):\n",
    "    return np.maximum(x, 0)"
   ]
  },
  {
   "cell_type": "code",
   "execution_count": 20,
   "metadata": {},
   "outputs": [],
   "source": [
    "def sigmoid(x):\n",
    "    return (1 / (1 + np.power(np.e, -x)))"
   ]
  },
  {
   "cell_type": "code",
   "execution_count": 77,
   "metadata": {},
   "outputs": [],
   "source": [
    "def predict(x):\n",
    "    z_in = dense(x, ws1, bias1)\n",
    "    z_out = relu(z_in)\n",
    "    f_in = dense(x, ws2, bias2)\n",
    "    f_out = softmax(f_in)\n",
    "    return f_out"
   ]
  },
  {
   "cell_type": "code",
   "execution_count": 47,
   "metadata": {},
   "outputs": [],
   "source": [
    "def binary_crossentropy(y_true, y_predicted):\n",
    "    if y_true == 1:\n",
    "        return -np.log(y_predicted)\n",
    "    else:\n",
    "        return -np.log(1- y_predicted)"
   ]
  },
  {
   "cell_type": "code",
   "execution_count": 48,
   "metadata": {},
   "outputs": [],
   "source": [
    "def softmax(x):\n",
    "    \"\"\"Compute softmax values for each sets of scores in x.\"\"\"\n",
    "    e_x = np.exp(x - np.max(x))\n",
    "    return e_x / e_x.sum()"
   ]
  },
  {
   "cell_type": "code",
   "execution_count": 50,
   "metadata": {},
   "outputs": [],
   "source": [
    "def cross_entropy(X,y):\n",
    "    \"\"\"\n",
    "    X is the output from fully connected layer (num_examples x num_classes)\n",
    "    y is labels (num_examples x 1)\n",
    "    \tNote that y is not one-hot encoded vector. \n",
    "    \tIt can be computed as y.argmax(axis=1) from one-hot encoded vectors of labels if required.\n",
    "    \"\"\"\n",
    "    m = y.shape[0]\n",
    "    p = softmax(X)\n",
    "    # We use multidimensional array indexing to extract \n",
    "    # softmax probability of the correct label for each sample.\n",
    "    # Refer to https://docs.scipy.org/doc/numpy/user/basics.indexing.html#indexing-multi-dimensional-arrays for understanding multidimensional array indexing.\n",
    "    log_likelihood = -np.log(p[range(m),y])\n",
    "    loss = np.sum(log_likelihood) / m\n",
    "    return loss"
   ]
  },
  {
   "cell_type": "code",
   "execution_count": 53,
   "metadata": {},
   "outputs": [
    {
     "data": {
      "text/plain": [
       "2.4023763264498355"
      ]
     },
     "execution_count": 53,
     "metadata": {},
     "output_type": "execute_result"
    }
   ],
   "source": [
    "cross_entropy(predict(X), y)"
   ]
  },
  {
   "cell_type": "code",
   "execution_count": 78,
   "metadata": {},
   "outputs": [
    {
     "name": "stdout",
     "output_type": "stream",
     "text": [
      "Prediction for X[0]: [0.5 0.5]\n",
      "=========================================================\n",
      "Prediction for X[1]: [3.3535013e-04 9.9966465e-01]\n",
      "=========================================================\n",
      "Prediction for X[2]: [9.9966465e-01 3.3535013e-04]\n",
      "=========================================================\n",
      "Prediction for X[3]: [9.9966465e-01 3.3535013e-04]\n",
      "=========================================================\n",
      "Prediction for X[4]: [3.3535013e-04 9.9966465e-01]\n",
      "=========================================================\n",
      "Loss is: 2.309955481747887\n"
     ]
    }
   ],
   "source": [
    "for index, x in enumerate(X):\n",
    "    print(\"Prediction for X[{}]: {}\".format(index, predict(x)))\n",
    "    print(\"=========================================================\")\n",
    "    \n",
    "y_preds = predict(X)\n",
    "print(\"Loss is: {}\".format(cross_entropy(predict(X), y)))"
   ]
  }
 ],
 "metadata": {
  "kernelspec": {
   "display_name": "Python 3",
   "language": "python",
   "name": "python3"
  },
  "language_info": {
   "codemirror_mode": {
    "name": "ipython",
    "version": 3
   },
   "file_extension": ".py",
   "mimetype": "text/x-python",
   "name": "python",
   "nbconvert_exporter": "python",
   "pygments_lexer": "ipython3",
   "version": "3.7.3"
  }
 },
 "nbformat": 4,
 "nbformat_minor": 2
}
